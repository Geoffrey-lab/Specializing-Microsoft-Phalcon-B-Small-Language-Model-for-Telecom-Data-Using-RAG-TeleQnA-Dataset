{
 "cells": [
  {
   "cell_type": "code",
   "execution_count": null,
   "id": "698c7976",
   "metadata": {},
   "outputs": [],
   "source": [
    "import pandas as pd\n",
    "\n",
    "# Load the dataset\n",
    "df = pd.read_csv('path_to_TeleQnA_dataset.csv')\n",
    "\n",
    "# Preprocess the dataset: removing missing or malformed data\n",
    "df.dropna(subset=['question', 'answer'], inplace=True)\n",
    "df['question'] = df['question'].str.strip()\n",
    "df['answer'] = df['answer'].str.strip()\n",
    "\n",
    "# Save the cleaned dataset\n",
    "df.to_csv('cleaned_TeleQnA_dataset.csv', index=False)"
   ]
  },
  {
   "cell_type": "code",
   "execution_count": null,
   "id": "a0208c7f",
   "metadata": {},
   "outputs": [],
   "source": [
    "from transformers import AutoModelForSeq2SeqLM, AutoTokenizer, TrainingArguments, Trainer\n",
    "from datasets import load_dataset\n",
    "\n",
    "dataset = load_dataset('path_to_TeleQnA_dataset')\n",
    "model_name = \"microsoft/phalcon-b-small\"\n",
    "model = AutoModelForSeq2SeqLM.from_pretrained(model_name)\n",
    "tokenizer = AutoTokenizer.from_pretrained(model_name)\n",
    "\n",
    "def preprocess_function(examples):\n",
    "    inputs = examples['question']\n",
    "    targets = examples['answer']\n",
    "    model_inputs = tokenizer(inputs, max_length=512, truncation=True)\n",
    "    labels = tokenizer(targets, max_length=512, truncation=True)\n",
    "    model_inputs['labels'] = labels['input_ids']\n",
    "    return model_inputs\n",
    "\n",
    "tokenized_dataset = dataset.map(preprocess_function, batched=True)\n",
    "\n",
    "training_args = TrainingArguments(\n",
    "    output_dir='./results',\n",
    "    evaluation_strategy='epoch',\n",
    "    learning_rate=2e-5,\n",
    "    per_device_train_batch_size=4,\n",
    "    per_device_eval_batch_size=4,\n",
    "    num_train_epochs=3,\n",
    "    weight_decay=0.01,\n",
    ")\n",
    "\n",
    "trainer = Trainer(\n",
    "    model=model,\n",
    "    args=training_args,\n",
    "    train_dataset=tokenized_dataset['train'],\n",
    "    eval_dataset=tokenized_dataset['validation'],\n",
    ")\n",
    "\n",
    "trainer.train()\n"
   ]
  },
  {
   "cell_type": "code",
   "execution_count": null,
   "id": "1fde2de5",
   "metadata": {},
   "outputs": [],
   "source": [
    "from transformers import RagTokenizer, RagRetriever, RagSequenceForGeneration\n",
    "\n",
    "# Load the RAG tokenizer and retriever\n",
    "rag_tokenizer = RagTokenizer.from_pretrained(\"facebook/rag-token-base\")\n",
    "rag_retriever = RagRetriever.from_pretrained(\"facebook/rag-token-base\", index_name=\"exact\", passages_path=\"path_to_passages\")\n",
    "\n",
    "# Load the RAG sequence model\n",
    "rag_model = RagSequenceForGeneration.from_pretrained(\"facebook/rag-sequence-base\", retriever=rag_retriever)\n",
    "\n",
    "# Tokenize the input\n",
    "input_text = \"What are the key features of 5G technology?\"\n",
    "inputs = rag_tokenizer([input_text], return_tensors=\"pt\")\n",
    "\n",
    "# Generate the response\n",
    "outputs = rag_model.generate(input_ids=inputs['input_ids'])\n",
    "response = rag_tokenizer.batch_decode(outputs, skip_special_tokens=True)\n",
    "print(response)\n"
   ]
  }
 ],
 "metadata": {
  "kernelspec": {
   "display_name": "Python 3 (ipykernel)",
   "language": "python",
   "name": "python3"
  },
  "language_info": {
   "codemirror_mode": {
    "name": "ipython",
    "version": 3
   },
   "file_extension": ".py",
   "mimetype": "text/x-python",
   "name": "python",
   "nbconvert_exporter": "python",
   "pygments_lexer": "ipython3",
   "version": "3.11.5"
  }
 },
 "nbformat": 4,
 "nbformat_minor": 5
}
